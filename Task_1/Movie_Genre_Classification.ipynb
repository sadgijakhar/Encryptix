{
 "cells": [
  {
   "cell_type": "markdown",
   "id": "f3adcb89",
   "metadata": {
    "papermill": {
     "duration": 0.009468,
     "end_time": "2024-05-08T15:39:18.445728",
     "exception": false,
     "start_time": "2024-05-08T15:39:18.436260",
     "status": "completed"
    },
    "tags": []
   },
   "source": [
    "# Task 1\n",
    "# Movie Genre Classification"
   ]
  },
  {
   "cell_type": "markdown",
   "id": "12728ab2",
   "metadata": {},
   "source": [
    "### Import Important Libraries"
   ]
  },
  {
   "cell_type": "code",
   "execution_count": 2,
   "id": "557935c6",
   "metadata": {},
   "outputs": [
    {
     "name": "stdout",
     "output_type": "stream",
     "text": [
      "Collecting nltk\n",
      "  Downloading nltk-3.8.1-py3-none-any.whl.metadata (2.8 kB)\n",
      "Collecting click (from nltk)\n",
      "  Downloading click-8.1.7-py3-none-any.whl.metadata (3.0 kB)\n",
      "Requirement already satisfied: joblib in /Library/Frameworks/Python.framework/Versions/3.12/lib/python3.12/site-packages (from nltk) (1.3.2)\n",
      "Collecting regex>=2021.8.3 (from nltk)\n",
      "  Downloading regex-2024.5.15-cp312-cp312-macosx_11_0_arm64.whl.metadata (40 kB)\n",
      "\u001b[2K     \u001b[90m━━━━━━━━━━━━━━━━━━━━━━━━━━━━━━━━━━━━━━━\u001b[0m \u001b[32m40.9/40.9 kB\u001b[0m \u001b[31m371.1 kB/s\u001b[0m eta \u001b[36m0:00:00\u001b[0ma \u001b[36m0:00:01\u001b[0m\n",
      "\u001b[?25hCollecting tqdm (from nltk)\n",
      "  Downloading tqdm-4.66.4-py3-none-any.whl.metadata (57 kB)\n",
      "\u001b[2K     \u001b[90m━━━━━━━━━━━━━━━━━━━━━━━━━━━━━━━━━━━━━━━\u001b[0m \u001b[32m57.6/57.6 kB\u001b[0m \u001b[31m604.0 kB/s\u001b[0m eta \u001b[36m0:00:00\u001b[0ma \u001b[36m0:00:01\u001b[0m\n",
      "\u001b[?25hDownloading nltk-3.8.1-py3-none-any.whl (1.5 MB)\n",
      "\u001b[2K   \u001b[90m━━━━━━━━━━━━━━━━━━━━━━━━━━━━━━━━━━━━━━━━\u001b[0m \u001b[32m1.5/1.5 MB\u001b[0m \u001b[31m829.1 kB/s\u001b[0m eta \u001b[36m0:00:00\u001b[0m00:01\u001b[0m00:01\u001b[0m\n",
      "\u001b[?25hDownloading regex-2024.5.15-cp312-cp312-macosx_11_0_arm64.whl (278 kB)\n",
      "\u001b[2K   \u001b[90m━━━━━━━━━━━━━━━━━━━━━━━━━━━━━━━━━━━━━━━━\u001b[0m \u001b[32m278.5/278.5 kB\u001b[0m \u001b[31m1.5 MB/s\u001b[0m eta \u001b[36m0:00:00\u001b[0ma \u001b[36m0:00:01\u001b[0m\n",
      "\u001b[?25hDownloading click-8.1.7-py3-none-any.whl (97 kB)\n",
      "\u001b[2K   \u001b[90m━━━━━━━━━━━━━━━━━━━━━━━━━━━━━━━━━━━━━━━━\u001b[0m \u001b[32m97.9/97.9 kB\u001b[0m \u001b[31m1.8 MB/s\u001b[0m eta \u001b[36m0:00:00\u001b[0ma \u001b[36m0:00:01\u001b[0m\n",
      "\u001b[?25hDownloading tqdm-4.66.4-py3-none-any.whl (78 kB)\n",
      "\u001b[2K   \u001b[90m━━━━━━━━━━━━━━━━━━━━━━━━━━━━━━━━━━━━━━━━\u001b[0m \u001b[32m78.3/78.3 kB\u001b[0m \u001b[31m1.6 MB/s\u001b[0m eta \u001b[36m0:00:00\u001b[0ma \u001b[36m0:00:01\u001b[0m\n",
      "\u001b[?25hInstalling collected packages: tqdm, regex, click, nltk\n",
      "Successfully installed click-8.1.7 nltk-3.8.1 regex-2024.5.15 tqdm-4.66.4\n",
      "\n",
      "\u001b[1m[\u001b[0m\u001b[34;49mnotice\u001b[0m\u001b[1;39;49m]\u001b[0m\u001b[39;49m A new release of pip is available: \u001b[0m\u001b[31;49m24.0\u001b[0m\u001b[39;49m -> \u001b[0m\u001b[32;49m24.1.1\u001b[0m\n",
      "\u001b[1m[\u001b[0m\u001b[34;49mnotice\u001b[0m\u001b[1;39;49m]\u001b[0m\u001b[39;49m To update, run: \u001b[0m\u001b[32;49mpip3.12 install --upgrade pip\u001b[0m\n",
      "Note: you may need to restart the kernel to use updated packages.\n"
     ]
    }
   ],
   "source": [
    "pip install nltk"
   ]
  },
  {
   "cell_type": "code",
   "execution_count": 3,
   "id": "719d2665",
   "metadata": {
    "execution": {
     "iopub.execute_input": "2024-05-08T15:39:18.487442Z",
     "iopub.status.busy": "2024-05-08T15:39:18.487079Z",
     "iopub.status.idle": "2024-05-08T15:39:22.103580Z",
     "shell.execute_reply": "2024-05-08T15:39:22.102246Z"
    },
    "papermill": {
     "duration": 3.627803,
     "end_time": "2024-05-08T15:39:22.106374",
     "exception": false,
     "start_time": "2024-05-08T15:39:18.478571",
     "status": "completed"
    },
    "tags": []
   },
   "outputs": [],
   "source": [
    "import numpy as np\n",
    "import pandas as pd\n",
    "import matplotlib.pyplot as plt\n",
    "import seaborn as sns\n",
    "import re\n",
    "import nltk\n",
    "import string\n",
    "from nltk.corpus import stopwords\n",
    "from nltk.stem import LancasterStemmer\n",
    "from sklearn.feature_extraction.text import TfidfVectorizer\n",
    "from sklearn.model_selection import train_test_split\n",
    "from sklearn.naive_bayes import MultinomialNB\n",
    "from sklearn.metrics import accuracy_score, classification_report"
   ]
  },
  {
   "cell_type": "markdown",
   "id": "d0e93357",
   "metadata": {
    "papermill": {
     "duration": 0.006901,
     "end_time": "2024-05-08T15:39:22.120611",
     "exception": false,
     "start_time": "2024-05-08T15:39:22.113710",
     "status": "completed"
    },
    "tags": []
   },
   "source": [
    "## Data Loading"
   ]
  },
  {
   "cell_type": "code",
   "execution_count": 5,
   "id": "8cf8445c",
   "metadata": {
    "execution": {
     "iopub.execute_input": "2024-05-08T15:39:22.136761Z",
     "iopub.status.busy": "2024-05-08T15:39:22.136155Z",
     "iopub.status.idle": "2024-05-08T15:39:23.371635Z",
     "shell.execute_reply": "2024-05-08T15:39:23.370544Z"
    },
    "papermill": {
     "duration": 1.246509,
     "end_time": "2024-05-08T15:39:23.374226",
     "exception": false,
     "start_time": "2024-05-08T15:39:22.127717",
     "status": "completed"
    },
    "tags": []
   },
   "outputs": [
    {
     "data": {
      "text/html": [
       "<div>\n",
       "<style scoped>\n",
       "    .dataframe tbody tr th:only-of-type {\n",
       "        vertical-align: middle;\n",
       "    }\n",
       "\n",
       "    .dataframe tbody tr th {\n",
       "        vertical-align: top;\n",
       "    }\n",
       "\n",
       "    .dataframe thead th {\n",
       "        text-align: right;\n",
       "    }\n",
       "</style>\n",
       "<table border=\"1\" class=\"dataframe\">\n",
       "  <thead>\n",
       "    <tr style=\"text-align: right;\">\n",
       "      <th></th>\n",
       "      <th>Title</th>\n",
       "      <th>Genre</th>\n",
       "      <th>Description</th>\n",
       "    </tr>\n",
       "  </thead>\n",
       "  <tbody>\n",
       "    <tr>\n",
       "      <th>1</th>\n",
       "      <td>Oscar et la dame rose (2009)</td>\n",
       "      <td>drama</td>\n",
       "      <td>Listening in to a conversation between his do...</td>\n",
       "    </tr>\n",
       "    <tr>\n",
       "      <th>2</th>\n",
       "      <td>Cupid (1997)</td>\n",
       "      <td>thriller</td>\n",
       "      <td>A brother and sister with a past incestuous r...</td>\n",
       "    </tr>\n",
       "    <tr>\n",
       "      <th>3</th>\n",
       "      <td>Young, Wild and Wonderful (1980)</td>\n",
       "      <td>adult</td>\n",
       "      <td>As the bus empties the students for their fie...</td>\n",
       "    </tr>\n",
       "    <tr>\n",
       "      <th>4</th>\n",
       "      <td>The Secret Sin (1915)</td>\n",
       "      <td>drama</td>\n",
       "      <td>To help their unemployed father make ends mee...</td>\n",
       "    </tr>\n",
       "    <tr>\n",
       "      <th>5</th>\n",
       "      <td>The Unrecovered (2007)</td>\n",
       "      <td>drama</td>\n",
       "      <td>The film's title refers not only to the un-re...</td>\n",
       "    </tr>\n",
       "    <tr>\n",
       "      <th>...</th>\n",
       "      <td>...</td>\n",
       "      <td>...</td>\n",
       "      <td>...</td>\n",
       "    </tr>\n",
       "    <tr>\n",
       "      <th>54210</th>\n",
       "      <td>\"Bonino\" (1953)</td>\n",
       "      <td>comedy</td>\n",
       "      <td>This short-lived NBC live sitcom centered on ...</td>\n",
       "    </tr>\n",
       "    <tr>\n",
       "      <th>54211</th>\n",
       "      <td>Dead Girls Don't Cry (????)</td>\n",
       "      <td>horror</td>\n",
       "      <td>The NEXT Generation of EXPLOITATION. The sist...</td>\n",
       "    </tr>\n",
       "    <tr>\n",
       "      <th>54212</th>\n",
       "      <td>Ronald Goedemondt: Ze bestaan echt (2008)</td>\n",
       "      <td>documentary</td>\n",
       "      <td>Ze bestaan echt, is a stand-up comedy about g...</td>\n",
       "    </tr>\n",
       "    <tr>\n",
       "      <th>54213</th>\n",
       "      <td>Make Your Own Bed (1944)</td>\n",
       "      <td>comedy</td>\n",
       "      <td>Walter and Vivian live in the country and hav...</td>\n",
       "    </tr>\n",
       "    <tr>\n",
       "      <th>54214</th>\n",
       "      <td>Nature's Fury: Storm of the Century (2006)</td>\n",
       "      <td>history</td>\n",
       "      <td>On Labor Day Weekend, 1935, the most intense ...</td>\n",
       "    </tr>\n",
       "  </tbody>\n",
       "</table>\n",
       "<p>54214 rows × 3 columns</p>\n",
       "</div>"
      ],
      "text/plain": [
       "                                              Title          Genre  \\\n",
       "1                     Oscar et la dame rose (2009)          drama    \n",
       "2                                     Cupid (1997)       thriller    \n",
       "3                 Young, Wild and Wonderful (1980)          adult    \n",
       "4                            The Secret Sin (1915)          drama    \n",
       "5                           The Unrecovered (2007)          drama    \n",
       "...                                             ...            ...   \n",
       "54210                              \"Bonino\" (1953)         comedy    \n",
       "54211                  Dead Girls Don't Cry (????)         horror    \n",
       "54212    Ronald Goedemondt: Ze bestaan echt (2008)    documentary    \n",
       "54213                     Make Your Own Bed (1944)         comedy    \n",
       "54214   Nature's Fury: Storm of the Century (2006)        history    \n",
       "\n",
       "                                             Description  \n",
       "1       Listening in to a conversation between his do...  \n",
       "2       A brother and sister with a past incestuous r...  \n",
       "3       As the bus empties the students for their fie...  \n",
       "4       To help their unemployed father make ends mee...  \n",
       "5       The film's title refers not only to the un-re...  \n",
       "...                                                  ...  \n",
       "54210   This short-lived NBC live sitcom centered on ...  \n",
       "54211   The NEXT Generation of EXPLOITATION. The sist...  \n",
       "54212   Ze bestaan echt, is a stand-up comedy about g...  \n",
       "54213   Walter and Vivian live in the country and hav...  \n",
       "54214   On Labor Day Weekend, 1935, the most intense ...  \n",
       "\n",
       "[54214 rows x 3 columns]"
      ]
     },
     "execution_count": 5,
     "metadata": {},
     "output_type": "execute_result"
    }
   ],
   "source": [
    "train_data = pd.read_csv('/Users/sadgijakhar/Downloads/Genre Classification Dataset/train_data.txt', sep=':::', names=['Title', 'Genre', 'Description'], engine='python')\n",
    "train_data"
   ]
  },
  {
   "cell_type": "code",
   "execution_count": 7,
   "id": "1953ced3",
   "metadata": {
    "execution": {
     "iopub.execute_input": "2024-05-08T15:39:23.391439Z",
     "iopub.status.busy": "2024-05-08T15:39:23.391033Z",
     "iopub.status.idle": "2024-05-08T15:39:24.416953Z",
     "shell.execute_reply": "2024-05-08T15:39:24.415825Z"
    },
    "papermill": {
     "duration": 1.037412,
     "end_time": "2024-05-08T15:39:24.419383",
     "exception": false,
     "start_time": "2024-05-08T15:39:23.381971",
     "status": "completed"
    },
    "tags": []
   },
   "outputs": [
    {
     "data": {
      "text/html": [
       "<div>\n",
       "<style scoped>\n",
       "    .dataframe tbody tr th:only-of-type {\n",
       "        vertical-align: middle;\n",
       "    }\n",
       "\n",
       "    .dataframe tbody tr th {\n",
       "        vertical-align: top;\n",
       "    }\n",
       "\n",
       "    .dataframe thead th {\n",
       "        text-align: right;\n",
       "    }\n",
       "</style>\n",
       "<table border=\"1\" class=\"dataframe\">\n",
       "  <thead>\n",
       "    <tr style=\"text-align: right;\">\n",
       "      <th></th>\n",
       "      <th>Id</th>\n",
       "      <th>Title</th>\n",
       "      <th>Description</th>\n",
       "    </tr>\n",
       "  </thead>\n",
       "  <tbody>\n",
       "    <tr>\n",
       "      <th>0</th>\n",
       "      <td>1</td>\n",
       "      <td>Edgar's Lunch (1998)</td>\n",
       "      <td>L.R. Brane loves his life - his car, his apar...</td>\n",
       "    </tr>\n",
       "    <tr>\n",
       "      <th>1</th>\n",
       "      <td>2</td>\n",
       "      <td>La guerra de papá (1977)</td>\n",
       "      <td>Spain, March 1964: Quico is a very naughty ch...</td>\n",
       "    </tr>\n",
       "    <tr>\n",
       "      <th>2</th>\n",
       "      <td>3</td>\n",
       "      <td>Off the Beaten Track (2010)</td>\n",
       "      <td>One year in the life of Albin and his family ...</td>\n",
       "    </tr>\n",
       "    <tr>\n",
       "      <th>3</th>\n",
       "      <td>4</td>\n",
       "      <td>Meu Amigo Hindu (2015)</td>\n",
       "      <td>His father has died, he hasn't spoken with hi...</td>\n",
       "    </tr>\n",
       "    <tr>\n",
       "      <th>4</th>\n",
       "      <td>5</td>\n",
       "      <td>Er nu zhai (1955)</td>\n",
       "      <td>Before he was known internationally as a mart...</td>\n",
       "    </tr>\n",
       "    <tr>\n",
       "      <th>...</th>\n",
       "      <td>...</td>\n",
       "      <td>...</td>\n",
       "      <td>...</td>\n",
       "    </tr>\n",
       "    <tr>\n",
       "      <th>54195</th>\n",
       "      <td>54196</td>\n",
       "      <td>\"Tales of Light &amp; Dark\" (2013)</td>\n",
       "      <td>Covering multiple genres, Tales of Light &amp; Da...</td>\n",
       "    </tr>\n",
       "    <tr>\n",
       "      <th>54196</th>\n",
       "      <td>54197</td>\n",
       "      <td>Der letzte Mohikaner (1965)</td>\n",
       "      <td>As Alice and Cora Munro attempt to find their...</td>\n",
       "    </tr>\n",
       "    <tr>\n",
       "      <th>54197</th>\n",
       "      <td>54198</td>\n",
       "      <td>Oliver Twink (2007)</td>\n",
       "      <td>A movie 169 years in the making. Oliver Twist...</td>\n",
       "    </tr>\n",
       "    <tr>\n",
       "      <th>54198</th>\n",
       "      <td>54199</td>\n",
       "      <td>Slipstream (1973)</td>\n",
       "      <td>Popular, but mysterious rock D.J Mike Mallard...</td>\n",
       "    </tr>\n",
       "    <tr>\n",
       "      <th>54199</th>\n",
       "      <td>54200</td>\n",
       "      <td>Curitiba Zero Grau (2010)</td>\n",
       "      <td>Curitiba is a city in movement, with rhythms ...</td>\n",
       "    </tr>\n",
       "  </tbody>\n",
       "</table>\n",
       "<p>54200 rows × 3 columns</p>\n",
       "</div>"
      ],
      "text/plain": [
       "          Id                             Title  \\\n",
       "0          1             Edgar's Lunch (1998)    \n",
       "1          2         La guerra de papá (1977)    \n",
       "2          3      Off the Beaten Track (2010)    \n",
       "3          4           Meu Amigo Hindu (2015)    \n",
       "4          5                Er nu zhai (1955)    \n",
       "...      ...                               ...   \n",
       "54195  54196   \"Tales of Light & Dark\" (2013)    \n",
       "54196  54197      Der letzte Mohikaner (1965)    \n",
       "54197  54198              Oliver Twink (2007)    \n",
       "54198  54199                Slipstream (1973)    \n",
       "54199  54200        Curitiba Zero Grau (2010)    \n",
       "\n",
       "                                             Description  \n",
       "0       L.R. Brane loves his life - his car, his apar...  \n",
       "1       Spain, March 1964: Quico is a very naughty ch...  \n",
       "2       One year in the life of Albin and his family ...  \n",
       "3       His father has died, he hasn't spoken with hi...  \n",
       "4       Before he was known internationally as a mart...  \n",
       "...                                                  ...  \n",
       "54195   Covering multiple genres, Tales of Light & Da...  \n",
       "54196   As Alice and Cora Munro attempt to find their...  \n",
       "54197   A movie 169 years in the making. Oliver Twist...  \n",
       "54198   Popular, but mysterious rock D.J Mike Mallard...  \n",
       "54199   Curitiba is a city in movement, with rhythms ...  \n",
       "\n",
       "[54200 rows x 3 columns]"
      ]
     },
     "execution_count": 7,
     "metadata": {},
     "output_type": "execute_result"
    }
   ],
   "source": [
    "test_data = pd.read_csv('/Users/sadgijakhar/Downloads/Genre Classification Dataset/test_data.txt', sep=':::', names=['Id', 'Title', 'Description'], engine='python')\n",
    "test_data"
   ]
  },
  {
   "cell_type": "markdown",
   "id": "679972ca",
   "metadata": {
    "papermill": {
     "duration": 0.007762,
     "end_time": "2024-05-08T15:39:24.435012",
     "exception": false,
     "start_time": "2024-05-08T15:39:24.427250",
     "status": "completed"
    },
    "tags": []
   },
   "source": [
    "## EDA"
   ]
  },
  {
   "cell_type": "code",
   "execution_count": 8,
   "id": "e55204e9",
   "metadata": {
    "execution": {
     "iopub.execute_input": "2024-05-08T15:39:24.452907Z",
     "iopub.status.busy": "2024-05-08T15:39:24.452412Z",
     "iopub.status.idle": "2024-05-08T15:39:24.618826Z",
     "shell.execute_reply": "2024-05-08T15:39:24.617612Z"
    },
    "papermill": {
     "duration": 0.178363,
     "end_time": "2024-05-08T15:39:24.621608",
     "exception": false,
     "start_time": "2024-05-08T15:39:24.443245",
     "status": "completed"
    },
    "tags": []
   },
   "outputs": [
    {
     "data": {
      "text/html": [
       "<div>\n",
       "<style scoped>\n",
       "    .dataframe tbody tr th:only-of-type {\n",
       "        vertical-align: middle;\n",
       "    }\n",
       "\n",
       "    .dataframe tbody tr th {\n",
       "        vertical-align: top;\n",
       "    }\n",
       "\n",
       "    .dataframe thead th {\n",
       "        text-align: right;\n",
       "    }\n",
       "</style>\n",
       "<table border=\"1\" class=\"dataframe\">\n",
       "  <thead>\n",
       "    <tr style=\"text-align: right;\">\n",
       "      <th></th>\n",
       "      <th>Title</th>\n",
       "      <th>Genre</th>\n",
       "      <th>Description</th>\n",
       "    </tr>\n",
       "  </thead>\n",
       "  <tbody>\n",
       "    <tr>\n",
       "      <th>count</th>\n",
       "      <td>54214</td>\n",
       "      <td>54214</td>\n",
       "      <td>54214</td>\n",
       "    </tr>\n",
       "    <tr>\n",
       "      <th>unique</th>\n",
       "      <td>54214</td>\n",
       "      <td>27</td>\n",
       "      <td>54086</td>\n",
       "    </tr>\n",
       "    <tr>\n",
       "      <th>top</th>\n",
       "      <td>Oscar et la dame rose (2009)</td>\n",
       "      <td>drama</td>\n",
       "      <td>Grammy - music award of the American academy ...</td>\n",
       "    </tr>\n",
       "    <tr>\n",
       "      <th>freq</th>\n",
       "      <td>1</td>\n",
       "      <td>13613</td>\n",
       "      <td>12</td>\n",
       "    </tr>\n",
       "  </tbody>\n",
       "</table>\n",
       "</div>"
      ],
      "text/plain": [
       "                                 Title    Genre  \\\n",
       "count                            54214    54214   \n",
       "unique                           54214       27   \n",
       "top      Oscar et la dame rose (2009)    drama    \n",
       "freq                                 1    13613   \n",
       "\n",
       "                                              Description  \n",
       "count                                               54214  \n",
       "unique                                              54086  \n",
       "top      Grammy - music award of the American academy ...  \n",
       "freq                                                   12  "
      ]
     },
     "execution_count": 8,
     "metadata": {},
     "output_type": "execute_result"
    }
   ],
   "source": [
    "train_data.describe()"
   ]
  },
  {
   "cell_type": "code",
   "execution_count": 9,
   "id": "cdc062de",
   "metadata": {
    "execution": {
     "iopub.execute_input": "2024-05-08T15:39:24.642377Z",
     "iopub.status.busy": "2024-05-08T15:39:24.641661Z",
     "iopub.status.idle": "2024-05-08T15:39:24.666561Z",
     "shell.execute_reply": "2024-05-08T15:39:24.665324Z"
    },
    "papermill": {
     "duration": 0.041647,
     "end_time": "2024-05-08T15:39:24.671644",
     "exception": false,
     "start_time": "2024-05-08T15:39:24.629997",
     "status": "completed"
    },
    "tags": []
   },
   "outputs": [
    {
     "data": {
      "text/html": [
       "<div>\n",
       "<style scoped>\n",
       "    .dataframe tbody tr th:only-of-type {\n",
       "        vertical-align: middle;\n",
       "    }\n",
       "\n",
       "    .dataframe tbody tr th {\n",
       "        vertical-align: top;\n",
       "    }\n",
       "\n",
       "    .dataframe thead th {\n",
       "        text-align: right;\n",
       "    }\n",
       "</style>\n",
       "<table border=\"1\" class=\"dataframe\">\n",
       "  <thead>\n",
       "    <tr style=\"text-align: right;\">\n",
       "      <th></th>\n",
       "      <th>Id</th>\n",
       "    </tr>\n",
       "  </thead>\n",
       "  <tbody>\n",
       "    <tr>\n",
       "      <th>count</th>\n",
       "      <td>54200.000000</td>\n",
       "    </tr>\n",
       "    <tr>\n",
       "      <th>mean</th>\n",
       "      <td>27100.500000</td>\n",
       "    </tr>\n",
       "    <tr>\n",
       "      <th>std</th>\n",
       "      <td>15646.336632</td>\n",
       "    </tr>\n",
       "    <tr>\n",
       "      <th>min</th>\n",
       "      <td>1.000000</td>\n",
       "    </tr>\n",
       "    <tr>\n",
       "      <th>25%</th>\n",
       "      <td>13550.750000</td>\n",
       "    </tr>\n",
       "    <tr>\n",
       "      <th>50%</th>\n",
       "      <td>27100.500000</td>\n",
       "    </tr>\n",
       "    <tr>\n",
       "      <th>75%</th>\n",
       "      <td>40650.250000</td>\n",
       "    </tr>\n",
       "    <tr>\n",
       "      <th>max</th>\n",
       "      <td>54200.000000</td>\n",
       "    </tr>\n",
       "  </tbody>\n",
       "</table>\n",
       "</div>"
      ],
      "text/plain": [
       "                 Id\n",
       "count  54200.000000\n",
       "mean   27100.500000\n",
       "std    15646.336632\n",
       "min        1.000000\n",
       "25%    13550.750000\n",
       "50%    27100.500000\n",
       "75%    40650.250000\n",
       "max    54200.000000"
      ]
     },
     "execution_count": 9,
     "metadata": {},
     "output_type": "execute_result"
    }
   ],
   "source": [
    "test_data.describe()"
   ]
  },
  {
   "cell_type": "code",
   "execution_count": 10,
   "id": "2f931a4d",
   "metadata": {
    "execution": {
     "iopub.execute_input": "2024-05-08T15:39:24.695682Z",
     "iopub.status.busy": "2024-05-08T15:39:24.695235Z",
     "iopub.status.idle": "2024-05-08T15:39:24.729169Z",
     "shell.execute_reply": "2024-05-08T15:39:24.727882Z"
    },
    "papermill": {
     "duration": 0.048738,
     "end_time": "2024-05-08T15:39:24.731770",
     "exception": false,
     "start_time": "2024-05-08T15:39:24.683032",
     "status": "completed"
    },
    "tags": []
   },
   "outputs": [
    {
     "data": {
      "text/plain": [
       "Title          0\n",
       "Genre          0\n",
       "Description    0\n",
       "dtype: int64"
      ]
     },
     "execution_count": 10,
     "metadata": {},
     "output_type": "execute_result"
    }
   ],
   "source": [
    "train_data.isnull().sum()"
   ]
  },
  {
   "cell_type": "code",
   "execution_count": 11,
   "id": "ea38c45f",
   "metadata": {
    "execution": {
     "iopub.execute_input": "2024-05-08T15:39:24.750846Z",
     "iopub.status.busy": "2024-05-08T15:39:24.750045Z",
     "iopub.status.idle": "2024-05-08T15:39:24.774147Z",
     "shell.execute_reply": "2024-05-08T15:39:24.772963Z"
    },
    "papermill": {
     "duration": 0.036415,
     "end_time": "2024-05-08T15:39:24.776770",
     "exception": false,
     "start_time": "2024-05-08T15:39:24.740355",
     "status": "completed"
    },
    "tags": []
   },
   "outputs": [
    {
     "data": {
      "text/plain": [
       "Id             0\n",
       "Title          0\n",
       "Description    0\n",
       "dtype: int64"
      ]
     },
     "execution_count": 11,
     "metadata": {},
     "output_type": "execute_result"
    }
   ],
   "source": [
    "test_data.isnull().sum()"
   ]
  },
  {
   "cell_type": "code",
   "execution_count": 12,
   "id": "cc7745ab",
   "metadata": {
    "execution": {
     "iopub.execute_input": "2024-05-08T15:39:24.796588Z",
     "iopub.status.busy": "2024-05-08T15:39:24.796206Z",
     "iopub.status.idle": "2024-05-08T15:39:24.811692Z",
     "shell.execute_reply": "2024-05-08T15:39:24.810518Z"
    },
    "papermill": {
     "duration": 0.029052,
     "end_time": "2024-05-08T15:39:24.815113",
     "exception": false,
     "start_time": "2024-05-08T15:39:24.786061",
     "status": "completed"
    },
    "tags": []
   },
   "outputs": [
    {
     "name": "stdout",
     "output_type": "stream",
     "text": [
      "Class Distribution:\n",
      "Genre\n",
      "drama           13613\n",
      "documentary     13096\n",
      "comedy           7447\n",
      "short            5073\n",
      "horror           2204\n",
      "thriller         1591\n",
      "action           1315\n",
      "western          1032\n",
      "reality-tv        884\n",
      "family            784\n",
      "adventure         775\n",
      "music             731\n",
      "romance           672\n",
      "sci-fi            647\n",
      "adult             590\n",
      "crime             505\n",
      "animation         498\n",
      "sport             432\n",
      "talk-show         391\n",
      "fantasy           323\n",
      "mystery           319\n",
      "musical           277\n",
      "biography         265\n",
      "history           243\n",
      "game-show         194\n",
      "news              181\n",
      "war               132\n",
      "Name: count, dtype: int64\n"
     ]
    }
   ],
   "source": [
    "class_distribution = train_data['Genre'].value_counts()\n",
    "print(\"Class Distribution:\")\n",
    "print(class_distribution)"
   ]
  },
  {
   "cell_type": "code",
   "execution_count": 13,
   "id": "12917494",
   "metadata": {
    "execution": {
     "iopub.execute_input": "2024-05-08T15:39:24.835141Z",
     "iopub.status.busy": "2024-05-08T15:39:24.834257Z",
     "iopub.status.idle": "2024-05-08T15:39:24.839868Z",
     "shell.execute_reply": "2024-05-08T15:39:24.839102Z"
    },
    "papermill": {
     "duration": 0.018042,
     "end_time": "2024-05-08T15:39:24.842111",
     "exception": false,
     "start_time": "2024-05-08T15:39:24.824069",
     "status": "completed"
    },
    "tags": []
   },
   "outputs": [
    {
     "name": "stdout",
     "output_type": "stream",
     "text": [
      "Imbalance Ratio: 0.009696613531183427\n"
     ]
    }
   ],
   "source": [
    "imbalance_ratio = class_distribution.min() / class_distribution.max()\n",
    "print(\"Imbalance Ratio:\", imbalance_ratio)"
   ]
  },
  {
   "cell_type": "code",
   "execution_count": 14,
   "id": "94f86461",
   "metadata": {
    "execution": {
     "iopub.execute_input": "2024-05-08T15:39:24.861746Z",
     "iopub.status.busy": "2024-05-08T15:39:24.861327Z",
     "iopub.status.idle": "2024-05-08T15:39:25.422667Z",
     "shell.execute_reply": "2024-05-08T15:39:25.421462Z"
    },
    "papermill": {
     "duration": 0.574549,
     "end_time": "2024-05-08T15:39:25.425593",
     "exception": false,
     "start_time": "2024-05-08T15:39:24.851044",
     "status": "completed"
    },
    "tags": []
   },
   "outputs": [
    {
     "data": {
      "image/png": "[encoded data removed]",
      "text/plain": [
       "<Figure size 800x600 with 1 Axes>"
      ]
     },
     "metadata": {},
     "output_type": "display_data"
    }
   ],
   "source": [
    "plt.figure(figsize=(8, 6))\n",
    "class_distribution.plot(kind='bar', color='skyblue')\n",
    "plt.title('Class Distribution')\n",
    "plt.xlabel('Class')\n",
    "plt.ylabel('Frequency')\n",
    "plt.xticks(rotation=65)\n",
    "plt.show()"
   ]
  },
  {
   "cell_type": "markdown",
   "id": "a22a7884",
   "metadata": {
    "papermill": {
     "duration": 0.009875,
     "end_time": "2024-05-08T15:39:25.445358",
     "exception": false,
     "start_time": "2024-05-08T15:39:25.435483",
     "status": "completed"
    },
    "tags": []
   },
   "source": [
    "## Modeling"
   ]
  },
  {
   "cell_type": "code",
   "execution_count": 15,
   "id": "3d2f09b1",
   "metadata": {
    "execution": {
     "iopub.execute_input": "2024-05-08T15:39:25.467440Z",
     "iopub.status.busy": "2024-05-08T15:39:25.466737Z",
     "iopub.status.idle": "2024-05-08T15:39:35.904588Z",
     "shell.execute_reply": "2024-05-08T15:39:35.903096Z"
    },
    "papermill": {
     "duration": 10.452486,
     "end_time": "2024-05-08T15:39:35.907793",
     "exception": false,
     "start_time": "2024-05-08T15:39:25.455307",
     "status": "completed"
    },
    "tags": []
   },
   "outputs": [
    {
     "name": "stdout",
     "output_type": "stream",
     "text": [
      "Accuracy on training set: 0.5359132327443096\n"
     ]
    },
    {
     "name": "stderr",
     "output_type": "stream",
     "text": [
      "/Library/Frameworks/Python.framework/Versions/3.12/lib/python3.12/site-packages/sklearn/metrics/_classification.py:1509: UndefinedMetricWarning: Precision is ill-defined and being set to 0.0 in labels with no predicted samples. Use `zero_division` parameter to control this behavior.\n",
      "  _warn_prf(average, modifier, f\"{metric.capitalize()} is\", len(result))\n",
      "/Library/Frameworks/Python.framework/Versions/3.12/lib/python3.12/site-packages/sklearn/metrics/_classification.py:1509: UndefinedMetricWarning: Precision is ill-defined and being set to 0.0 in labels with no predicted samples. Use `zero_division` parameter to control this behavior.\n",
      "  _warn_prf(average, modifier, f\"{metric.capitalize()} is\", len(result))\n"
     ]
    },
    {
     "name": "stdout",
     "output_type": "stream",
     "text": [
      "Classification Report on training set:\n",
      "                precision    recall  f1-score   support\n",
      "\n",
      "      action        0.70      0.09      0.16      1315\n",
      "       adult        0.79      0.05      0.10       590\n",
      "   adventure        0.76      0.05      0.10       775\n",
      "   animation        0.00      0.00      0.00       498\n",
      "   biography        0.00      0.00      0.00       265\n",
      "      comedy        0.56      0.45      0.50      7447\n",
      "       crime        0.00      0.00      0.00       505\n",
      " documentary        0.57      0.90      0.70     13096\n",
      "       drama        0.47      0.84      0.60     13613\n",
      "      family        1.00      0.00      0.01       784\n",
      "     fantasy        0.00      0.00      0.00       323\n",
      "   game-show        1.00      0.14      0.24       194\n",
      "     history        0.00      0.00      0.00       243\n",
      "      horror        0.78      0.36      0.50      2204\n",
      "       music        0.90      0.16      0.27       731\n",
      "     musical        0.00      0.00      0.00       277\n",
      "     mystery        0.00      0.00      0.00       319\n",
      "        news        0.00      0.00      0.00       181\n",
      "  reality-tv        0.85      0.03      0.05       884\n",
      "     romance        0.00      0.00      0.00       672\n",
      "      sci-fi        0.85      0.04      0.09       647\n",
      "       short        0.66      0.11      0.19      5073\n",
      "       sport        0.80      0.11      0.19       432\n",
      "   talk-show        1.00      0.01      0.02       391\n",
      "    thriller        0.71      0.02      0.05      1591\n",
      "         war        0.00      0.00      0.00       132\n",
      "     western        0.97      0.59      0.73      1032\n",
      "\n",
      "     accuracy                           0.54     54214\n",
      "    macro avg       0.50      0.15      0.17     54214\n",
      " weighted avg       0.57      0.54      0.46     54214\n",
      "\n"
     ]
    },
    {
     "name": "stderr",
     "output_type": "stream",
     "text": [
      "/Library/Frameworks/Python.framework/Versions/3.12/lib/python3.12/site-packages/sklearn/metrics/_classification.py:1509: UndefinedMetricWarning: Precision is ill-defined and being set to 0.0 in labels with no predicted samples. Use `zero_division` parameter to control this behavior.\n",
      "  _warn_prf(average, modifier, f\"{metric.capitalize()} is\", len(result))\n"
     ]
    }
   ],
   "source": [
    "tfidf_vectorizer = TfidfVectorizer(max_features=5000)\n",
    "X_train_tfidf = tfidf_vectorizer.fit_transform(train_data['Description'])\n",
    "y_train = train_data['Genre']  \n",
    "\n",
    "\n",
    "nb_classifier = MultinomialNB()\n",
    "nb_classifier.fit(X_train_tfidf, y_train)\n",
    "\n",
    "\n",
    "y_train_pred = nb_classifier.predict(X_train_tfidf)\n",
    "\n",
    "\n",
    "print(\"Accuracy on training set:\", accuracy_score(y_train, y_train_pred))\n",
    "print(\"Classification Report on training set:\\n\", classification_report(y_train, y_train_pred))\n"
   ]
  },
  {
   "cell_type": "markdown",
   "id": "48caf2be",
   "metadata": {
    "papermill": {
     "duration": 0.010232,
     "end_time": "2024-05-08T15:39:35.928761",
     "exception": false,
     "start_time": "2024-05-08T15:39:35.918529",
     "status": "completed"
    },
    "tags": []
   },
   "source": [
    "## Prediction"
   ]
  },
  {
   "cell_type": "code",
   "execution_count": 16,
   "id": "e2b4e54b",
   "metadata": {
    "execution": {
     "iopub.execute_input": "2024-05-08T15:39:35.952941Z",
     "iopub.status.busy": "2024-05-08T15:39:35.952238Z",
     "iopub.status.idle": "2024-05-08T15:39:43.544183Z",
     "shell.execute_reply": "2024-05-08T15:39:43.543113Z"
    },
    "papermill": {
     "duration": 7.60759,
     "end_time": "2024-05-08T15:39:43.546984",
     "exception": false,
     "start_time": "2024-05-08T15:39:35.939394",
     "status": "completed"
    },
    "tags": []
   },
   "outputs": [],
   "source": [
    "tfidf_vectorizer = TfidfVectorizer(max_features=5000)\n",
    "X_test = tfidf_vectorizer.fit_transform(test_data['Description'])"
   ]
  },
  {
   "cell_type": "code",
   "execution_count": 17,
   "id": "cb75f85b",
   "metadata": {
    "execution": {
     "iopub.execute_input": "2024-05-08T15:39:43.569794Z",
     "iopub.status.busy": "2024-05-08T15:39:43.569380Z",
     "iopub.status.idle": "2024-05-08T15:39:43.645928Z",
     "shell.execute_reply": "2024-05-08T15:39:43.644973Z"
    },
    "papermill": {
     "duration": 0.091148,
     "end_time": "2024-05-08T15:39:43.648823",
     "exception": false,
     "start_time": "2024-05-08T15:39:43.557675",
     "status": "completed"
    },
    "tags": []
   },
   "outputs": [],
   "source": [
    "X_test_predictions = nb_classifier.predict(X_test)\n",
    "test_data['Predicted_Genre'] = X_test_predictions"
   ]
  },
  {
   "cell_type": "code",
   "execution_count": 18,
   "id": "6c6d7921",
   "metadata": {
    "execution": {
     "iopub.execute_input": "2024-05-08T15:39:43.671700Z",
     "iopub.status.busy": "2024-05-08T15:39:43.671282Z",
     "iopub.status.idle": "2024-05-08T15:39:45.452180Z",
     "shell.execute_reply": "2024-05-08T15:39:45.450860Z"
    },
    "papermill": {
     "duration": 1.795213,
     "end_time": "2024-05-08T15:39:45.454763",
     "exception": false,
     "start_time": "2024-05-08T15:39:43.659550",
     "status": "completed"
    },
    "tags": []
   },
   "outputs": [
    {
     "name": "stdout",
     "output_type": "stream",
     "text": [
      "          Id                             Title  \\\n",
      "0          1             Edgar's Lunch (1998)    \n",
      "1          2         La guerra de papá (1977)    \n",
      "2          3      Off the Beaten Track (2010)    \n",
      "3          4           Meu Amigo Hindu (2015)    \n",
      "4          5                Er nu zhai (1955)    \n",
      "...      ...                               ...   \n",
      "54195  54196   \"Tales of Light & Dark\" (2013)    \n",
      "54196  54197      Der letzte Mohikaner (1965)    \n",
      "54197  54198              Oliver Twink (2007)    \n",
      "54198  54199                Slipstream (1973)    \n",
      "54199  54200        Curitiba Zero Grau (2010)    \n",
      "\n",
      "                                             Description Predicted_Genre  \n",
      "0       L.R. Brane loves his life - his car, his apar...          drama   \n",
      "1       Spain, March 1964: Quico is a very naughty ch...          drama   \n",
      "2       One year in the life of Albin and his family ...    documentary   \n",
      "3       His father has died, he hasn't spoken with hi...    documentary   \n",
      "4       Before he was known internationally as a mart...    documentary   \n",
      "...                                                  ...             ...  \n",
      "54195   Covering multiple genres, Tales of Light & Da...          drama   \n",
      "54196   As Alice and Cora Munro attempt to find their...          drama   \n",
      "54197   A movie 169 years in the making. Oliver Twist...    documentary   \n",
      "54198   Popular, but mysterious rock D.J Mike Mallard...          drama   \n",
      "54199   Curitiba is a city in movement, with rhythms ...          short   \n",
      "\n",
      "[54200 rows x 4 columns]\n"
     ]
    }
   ],
   "source": [
    "test_data.to_csv('predicted_genres.csv', index=False)\n",
    "\n",
    "print(test_data)"
   ]
  },
  {
   "cell_type": "code",
   "execution_count": null,
   "id": "2361dc95",
   "metadata": {},
   "outputs": [],
   "source": []
  }
 ],
 "metadata": {
  "kaggle": {
   "accelerator": "none",
   "dataSources": [
    {
     "datasetId": 1417162,
     "sourceId": 2347441,
     "sourceType": "datasetVersion"
    }
   ],
   "dockerImageVersionId": 30698,
   "isGpuEnabled": false,
   "isInternetEnabled": true,
   "language": "python",
   "sourceType": "notebook"
  },
  "kernelspec": {
   "display_name": "Python 3",
   "language": "python",
   "name": "python3"
  },
  "language_info": {
   "codemirror_mode": {
    "name": "ipython",
    "version": 3
   },
   "file_extension": ".py",
   "mimetype": "text/x-python",
   "name": "python",
   "nbconvert_exporter": "python",
   "pygments_lexer": "ipython3",
   "version": "3.12.2"
  },
  "papermill": {
   "default_parameters": {},
   "duration": 30.935299,
   "end_time": "2024-05-08T15:39:46.299349",
   "environment_variables": {},
   "exception": null,
   "input_path": "__notebook__.ipynb",
   "output_path": "__notebook__.ipynb",
   "parameters": {},
   "start_time": "2024-05-08T15:39:15.364050",
   "version": "2.5.0"
  }
 },
 "nbformat": 4,
 "nbformat_minor": 5
}
