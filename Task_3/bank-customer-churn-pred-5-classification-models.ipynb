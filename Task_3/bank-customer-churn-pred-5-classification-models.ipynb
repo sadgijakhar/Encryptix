{
 "cells": [
  {
   "cell_type": "markdown",
   "id": "e3b39d3e",
   "metadata": {},
   "source": [
    "# Task 3"
   ]
  },
  {
   "cell_type": "markdown",
   "id": "14d5c917",
   "metadata": {},
   "source": [
    "# Customer Churn Prediction"
   ]
  },
  {
   "cell_type": "markdown",
   "id": "43454095",
   "metadata": {},
   "source": [
    "## Import Important Libraries"
   ]
  },
  {
   "cell_type": "code",
   "execution_count": 1,
   "id": "273fbd01",
   "metadata": {
    "_cell_guid": "b1076dfc-b9ad-4769-8c92-a6c4dae69d19",
    "_uuid": "8f2839f25d086af736a60e9eeb907d3b93b6e0e5",
    "execution": {
     "iopub.execute_input": "2024-06-29T17:47:04.150237Z",
     "iopub.status.busy": "2024-06-29T17:47:04.149866Z",
     "iopub.status.idle": "2024-06-29T17:47:05.083071Z",
     "shell.execute_reply": "2024-06-29T17:47:05.081555Z"
    },
    "papermill": {
     "duration": 0.953144,
     "end_time": "2024-06-29T17:47:05.086101",
     "exception": false,
     "start_time": "2024-06-29T17:47:04.132957",
     "status": "completed"
    },
    "tags": []
   },
   "outputs": [],
   "source": [
    "import numpy as np \n",
    "import pandas as pd \n",
    "import seaborn as sns\n",
    "import matplotlib.pyplot as plt"
   ]
  },
  {
   "cell_type": "markdown",
   "id": "f7827e5d",
   "metadata": {},
   "source": [
    "## Importing Datasets"
   ]
  },
  {
   "cell_type": "code",
   "execution_count": 2,
   "id": "d4d4532c",
   "metadata": {
    "execution": {
     "iopub.execute_input": "2024-06-29T17:47:06.511011Z",
     "iopub.status.busy": "2024-06-29T17:47:06.510604Z",
     "iopub.status.idle": "2024-06-29T17:47:06.560152Z",
     "shell.execute_reply": "2024-06-29T17:47:06.558842Z"
    },
    "papermill": {
     "duration": 0.068492,
     "end_time": "2024-06-29T17:47:06.562993",
     "exception": false,
     "start_time": "2024-06-29T17:47:06.494501",
     "status": "completed"
    },
    "tags": []
   },
   "outputs": [],
   "source": [
    "df= pd.read_csv(\"Churn_Modelling.csv\")"
   ]
  },
  {
   "cell_type": "code",
   "execution_count": 3,
   "id": "283707f8",
   "metadata": {
    "execution": {
     "iopub.execute_input": "2024-06-29T17:47:06.594120Z",
     "iopub.status.busy": "2024-06-29T17:47:06.593419Z",
     "iopub.status.idle": "2024-06-29T17:47:06.623674Z",
     "shell.execute_reply": "2024-06-29T17:47:06.622587Z"
    },
    "papermill": {
     "duration": 0.048601,
     "end_time": "2024-06-29T17:47:06.626165",
     "exception": false,
     "start_time": "2024-06-29T17:47:06.577564",
     "status": "completed"
    },
    "tags": []
   },
   "outputs": [
    {
     "data": {
      "text/html": [
       "<div>\n",
       "<style scoped>\n",
       "    .dataframe tbody tr th:only-of-type {\n",
       "        vertical-align: middle;\n",
       "    }\n",
       "\n",
       "    .dataframe tbody tr th {\n",
       "        vertical-align: top;\n",
       "    }\n",
       "\n",
       "    .dataframe thead th {\n",
       "        text-align: right;\n",
       "    }\n",
       "</style>\n",
       "<table border=\"1\" class=\"dataframe\">\n",
       "  <thead>\n",
       "    <tr style=\"text-align: right;\">\n",
       "      <th></th>\n",
       "      <th>RowNumber</th>\n",
       "      <th>CustomerId</th>\n",
       "      <th>Surname</th>\n",
       "      <th>CreditScore</th>\n",
       "      <th>Geography</th>\n",
       "      <th>Gender</th>\n",
       "      <th>Age</th>\n",
       "      <th>Tenure</th>\n",
       "      <th>Balance</th>\n",
       "      <th>NumOfProducts</th>\n",
       "      <th>HasCrCard</th>\n",
       "      <th>IsActiveMember</th>\n",
       "      <th>EstimatedSalary</th>\n",
       "      <th>Exited</th>\n",
       "    </tr>\n",
       "  </thead>\n",
       "  <tbody>\n",
       "    <tr>\n",
       "      <th>0</th>\n",
       "      <td>1</td>\n",
       "      <td>15634602</td>\n",
       "      <td>Hargrave</td>\n",
       "      <td>619</td>\n",
       "      <td>France</td>\n",
       "      <td>Female</td>\n",
       "      <td>42</td>\n",
       "      <td>2</td>\n",
       "      <td>0.00</td>\n",
       "      <td>1</td>\n",
       "      <td>1</td>\n",
       "      <td>1</td>\n",
       "      <td>101348.88</td>\n",
       "      <td>1</td>\n",
       "    </tr>\n",
       "    <tr>\n",
       "      <th>1</th>\n",
       "      <td>2</td>\n",
       "      <td>15647311</td>\n",
       "      <td>Hill</td>\n",
       "      <td>608</td>\n",
       "      <td>Spain</td>\n",
       "      <td>Female</td>\n",
       "      <td>41</td>\n",
       "      <td>1</td>\n",
       "      <td>83807.86</td>\n",
       "      <td>1</td>\n",
       "      <td>0</td>\n",
       "      <td>1</td>\n",
       "      <td>112542.58</td>\n",
       "      <td>0</td>\n",
       "    </tr>\n",
       "    <tr>\n",
       "      <th>2</th>\n",
       "      <td>3</td>\n",
       "      <td>15619304</td>\n",
       "      <td>Onio</td>\n",
       "      <td>502</td>\n",
       "      <td>France</td>\n",
       "      <td>Female</td>\n",
       "      <td>42</td>\n",
       "      <td>8</td>\n",
       "      <td>159660.80</td>\n",
       "      <td>3</td>\n",
       "      <td>1</td>\n",
       "      <td>0</td>\n",
       "      <td>113931.57</td>\n",
       "      <td>1</td>\n",
       "    </tr>\n",
       "    <tr>\n",
       "      <th>3</th>\n",
       "      <td>4</td>\n",
       "      <td>15701354</td>\n",
       "      <td>Boni</td>\n",
       "      <td>699</td>\n",
       "      <td>France</td>\n",
       "      <td>Female</td>\n",
       "      <td>39</td>\n",
       "      <td>1</td>\n",
       "      <td>0.00</td>\n",
       "      <td>2</td>\n",
       "      <td>0</td>\n",
       "      <td>0</td>\n",
       "      <td>93826.63</td>\n",
       "      <td>0</td>\n",
       "    </tr>\n",
       "    <tr>\n",
       "      <th>4</th>\n",
       "      <td>5</td>\n",
       "      <td>15737888</td>\n",
       "      <td>Mitchell</td>\n",
       "      <td>850</td>\n",
       "      <td>Spain</td>\n",
       "      <td>Female</td>\n",
       "      <td>43</td>\n",
       "      <td>2</td>\n",
       "      <td>125510.82</td>\n",
       "      <td>1</td>\n",
       "      <td>1</td>\n",
       "      <td>1</td>\n",
       "      <td>79084.10</td>\n",
       "      <td>0</td>\n",
       "    </tr>\n",
       "  </tbody>\n",
       "</table>\n",
       "</div>"
      ],
      "text/plain": [
       "   RowNumber  CustomerId   Surname  CreditScore Geography  Gender  Age  \\\n",
       "0          1    15634602  Hargrave          619    France  Female   42   \n",
       "1          2    15647311      Hill          608     Spain  Female   41   \n",
       "2          3    15619304      Onio          502    France  Female   42   \n",
       "3          4    15701354      Boni          699    France  Female   39   \n",
       "4          5    15737888  Mitchell          850     Spain  Female   43   \n",
       "\n",
       "   Tenure    Balance  NumOfProducts  HasCrCard  IsActiveMember  \\\n",
       "0       2       0.00              1          1               1   \n",
       "1       1   83807.86              1          0               1   \n",
       "2       8  159660.80              3          1               0   \n",
       "3       1       0.00              2          0               0   \n",
       "4       2  125510.82              1          1               1   \n",
       "\n",
       "   EstimatedSalary  Exited  \n",
       "0        101348.88       1  \n",
       "1        112542.58       0  \n",
       "2        113931.57       1  \n",
       "3         93826.63       0  \n",
       "4         79084.10       0  "
      ]
     },
     "execution_count": 3,
     "metadata": {},
     "output_type": "execute_result"
    }
   ],
   "source": [
    "df.head()"
   ]
  },
  {
   "cell_type": "code",
   "execution_count": 4,
   "id": "0bedeec6",
   "metadata": {
    "execution": {
     "iopub.execute_input": "2024-06-29T17:47:06.658067Z",
     "iopub.status.busy": "2024-06-29T17:47:06.657705Z",
     "iopub.status.idle": "2024-06-29T17:47:06.669651Z",
     "shell.execute_reply": "2024-06-29T17:47:06.668464Z"
    },
    "papermill": {
     "duration": 0.031254,
     "end_time": "2024-06-29T17:47:06.672277",
     "exception": false,
     "start_time": "2024-06-29T17:47:06.641023",
     "status": "completed"
    },
    "tags": []
   },
   "outputs": [],
   "source": [
    "df.drop(['RowNumber'], axis=1, inplace= True)"
   ]
  },
  {
   "cell_type": "code",
   "execution_count": 5,
   "id": "bba7749a",
   "metadata": {
    "execution": {
     "iopub.execute_input": "2024-06-29T17:47:06.704283Z",
     "iopub.status.busy": "2024-06-29T17:47:06.703896Z",
     "iopub.status.idle": "2024-06-29T17:47:06.719862Z",
     "shell.execute_reply": "2024-06-29T17:47:06.718843Z"
    },
    "papermill": {
     "duration": 0.035001,
     "end_time": "2024-06-29T17:47:06.722295",
     "exception": false,
     "start_time": "2024-06-29T17:47:06.687294",
     "status": "completed"
    },
    "tags": []
   },
   "outputs": [
    {
     "data": {
      "text/plain": [
       "Geography\n",
       "France     5014\n",
       "Germany    2509\n",
       "Spain      2477\n",
       "Name: count, dtype: int64"
      ]
     },
     "execution_count": 5,
     "metadata": {},
     "output_type": "execute_result"
    }
   ],
   "source": [
    "df['Geography'].value_counts()"
   ]
  },
  {
   "cell_type": "code",
   "execution_count": 6,
   "id": "a65cb0f0",
   "metadata": {
    "execution": {
     "iopub.execute_input": "2024-06-29T17:47:06.754054Z",
     "iopub.status.busy": "2024-06-29T17:47:06.753676Z",
     "iopub.status.idle": "2024-06-29T17:47:06.767726Z",
     "shell.execute_reply": "2024-06-29T17:47:06.766727Z"
    },
    "papermill": {
     "duration": 0.033308,
     "end_time": "2024-06-29T17:47:06.770646",
     "exception": false,
     "start_time": "2024-06-29T17:47:06.737338",
     "status": "completed"
    },
    "tags": []
   },
   "outputs": [],
   "source": [
    "df= df.join(pd.get_dummies(df['Geography'], prefix= 'Geo').astype('int'))"
   ]
  },
  {
   "cell_type": "code",
   "execution_count": 7,
   "id": "773865e1",
   "metadata": {
    "execution": {
     "iopub.execute_input": "2024-06-29T17:47:06.803233Z",
     "iopub.status.busy": "2024-06-29T17:47:06.802821Z",
     "iopub.status.idle": "2024-06-29T17:47:06.810463Z",
     "shell.execute_reply": "2024-06-29T17:47:06.809470Z"
    },
    "papermill": {
     "duration": 0.027009,
     "end_time": "2024-06-29T17:47:06.812965",
     "exception": false,
     "start_time": "2024-06-29T17:47:06.785956",
     "status": "completed"
    },
    "tags": []
   },
   "outputs": [],
   "source": [
    "df.drop(['Geography'], axis=1, inplace= True)"
   ]
  },
  {
   "cell_type": "code",
   "execution_count": 8,
   "id": "a31412fd",
   "metadata": {
    "execution": {
     "iopub.execute_input": "2024-06-29T17:47:06.845325Z",
     "iopub.status.busy": "2024-06-29T17:47:06.844545Z",
     "iopub.status.idle": "2024-06-29T17:47:06.862560Z",
     "shell.execute_reply": "2024-06-29T17:47:06.861491Z"
    },
    "papermill": {
     "duration": 0.036834,
     "end_time": "2024-06-29T17:47:06.864928",
     "exception": false,
     "start_time": "2024-06-29T17:47:06.828094",
     "status": "completed"
    },
    "tags": []
   },
   "outputs": [
    {
     "data": {
      "text/html": [
       "<div>\n",
       "<style scoped>\n",
       "    .dataframe tbody tr th:only-of-type {\n",
       "        vertical-align: middle;\n",
       "    }\n",
       "\n",
       "    .dataframe tbody tr th {\n",
       "        vertical-align: top;\n",
       "    }\n",
       "\n",
       "    .dataframe thead th {\n",
       "        text-align: right;\n",
       "    }\n",
       "</style>\n",
       "<table border=\"1\" class=\"dataframe\">\n",
       "  <thead>\n",
       "    <tr style=\"text-align: right;\">\n",
       "      <th></th>\n",
       "      <th>CustomerId</th>\n",
       "      <th>Surname</th>\n",
       "      <th>CreditScore</th>\n",
       "      <th>Gender</th>\n",
       "      <th>Age</th>\n",
       "      <th>Tenure</th>\n",
       "      <th>Balance</th>\n",
       "      <th>NumOfProducts</th>\n",
       "      <th>HasCrCard</th>\n",
       "      <th>IsActiveMember</th>\n",
       "      <th>EstimatedSalary</th>\n",
       "      <th>Exited</th>\n",
       "      <th>Geo_France</th>\n",
       "      <th>Geo_Germany</th>\n",
       "      <th>Geo_Spain</th>\n",
       "    </tr>\n",
       "  </thead>\n",
       "  <tbody>\n",
       "    <tr>\n",
       "      <th>0</th>\n",
       "      <td>15634602</td>\n",
       "      <td>Hargrave</td>\n",
       "      <td>619</td>\n",
       "      <td>Female</td>\n",
       "      <td>42</td>\n",
       "      <td>2</td>\n",
       "      <td>0.00</td>\n",
       "      <td>1</td>\n",
       "      <td>1</td>\n",
       "      <td>1</td>\n",
       "      <td>101348.88</td>\n",
       "      <td>1</td>\n",
       "      <td>1</td>\n",
       "      <td>0</td>\n",
       "      <td>0</td>\n",
       "    </tr>\n",
       "    <tr>\n",
       "      <th>1</th>\n",
       "      <td>15647311</td>\n",
       "      <td>Hill</td>\n",
       "      <td>608</td>\n",
       "      <td>Female</td>\n",
       "      <td>41</td>\n",
       "      <td>1</td>\n",
       "      <td>83807.86</td>\n",
       "      <td>1</td>\n",
       "      <td>0</td>\n",
       "      <td>1</td>\n",
       "      <td>112542.58</td>\n",
       "      <td>0</td>\n",
       "      <td>0</td>\n",
       "      <td>0</td>\n",
       "      <td>1</td>\n",
       "    </tr>\n",
       "    <tr>\n",
       "      <th>2</th>\n",
       "      <td>15619304</td>\n",
       "      <td>Onio</td>\n",
       "      <td>502</td>\n",
       "      <td>Female</td>\n",
       "      <td>42</td>\n",
       "      <td>8</td>\n",
       "      <td>159660.80</td>\n",
       "      <td>3</td>\n",
       "      <td>1</td>\n",
       "      <td>0</td>\n",
       "      <td>113931.57</td>\n",
       "      <td>1</td>\n",
       "      <td>1</td>\n",
       "      <td>0</td>\n",
       "      <td>0</td>\n",
       "    </tr>\n",
       "    <tr>\n",
       "      <th>3</th>\n",
       "      <td>15701354</td>\n",
       "      <td>Boni</td>\n",
       "      <td>699</td>\n",
       "      <td>Female</td>\n",
       "      <td>39</td>\n",
       "      <td>1</td>\n",
       "      <td>0.00</td>\n",
       "      <td>2</td>\n",
       "      <td>0</td>\n",
       "      <td>0</td>\n",
       "      <td>93826.63</td>\n",
       "      <td>0</td>\n",
       "      <td>1</td>\n",
       "      <td>0</td>\n",
       "      <td>0</td>\n",
       "    </tr>\n",
       "    <tr>\n",
       "      <th>4</th>\n",
       "      <td>15737888</td>\n",
       "      <td>Mitchell</td>\n",
       "      <td>850</td>\n",
       "      <td>Female</td>\n",
       "      <td>43</td>\n",
       "      <td>2</td>\n",
       "      <td>125510.82</td>\n",
       "      <td>1</td>\n",
       "      <td>1</td>\n",
       "      <td>1</td>\n",
       "      <td>79084.10</td>\n",
       "      <td>0</td>\n",
       "      <td>0</td>\n",
       "      <td>0</td>\n",
       "      <td>1</td>\n",
       "    </tr>\n",
       "  </tbody>\n",
       "</table>\n",
       "</div>"
      ],
      "text/plain": [
       "   CustomerId   Surname  CreditScore  Gender  Age  Tenure    Balance  \\\n",
       "0    15634602  Hargrave          619  Female   42       2       0.00   \n",
       "1    15647311      Hill          608  Female   41       1   83807.86   \n",
       "2    15619304      Onio          502  Female   42       8  159660.80   \n",
       "3    15701354      Boni          699  Female   39       1       0.00   \n",
       "4    15737888  Mitchell          850  Female   43       2  125510.82   \n",
       "\n",
       "   NumOfProducts  HasCrCard  IsActiveMember  EstimatedSalary  Exited  \\\n",
       "0              1          1               1        101348.88       1   \n",
       "1              1          0               1        112542.58       0   \n",
       "2              3          1               0        113931.57       1   \n",
       "3              2          0               0         93826.63       0   \n",
       "4              1          1               1         79084.10       0   \n",
       "\n",
       "   Geo_France  Geo_Germany  Geo_Spain  \n",
       "0           1            0          0  \n",
       "1           0            0          1  \n",
       "2           1            0          0  \n",
       "3           1            0          0  \n",
       "4           0            0          1  "
      ]
     },
     "execution_count": 8,
     "metadata": {},
     "output_type": "execute_result"
    }
   ],
   "source": [
    "df.head()"
   ]
  },
  {
   "cell_type": "code",
   "execution_count": 9,
   "id": "5cc183d4",
   "metadata": {
    "execution": {
     "iopub.execute_input": "2024-06-29T17:47:06.897448Z",
     "iopub.status.busy": "2024-06-29T17:47:06.897057Z",
     "iopub.status.idle": "2024-06-29T17:47:06.907762Z",
     "shell.execute_reply": "2024-06-29T17:47:06.906624Z"
    },
    "papermill": {
     "duration": 0.029774,
     "end_time": "2024-06-29T17:47:06.910163",
     "exception": false,
     "start_time": "2024-06-29T17:47:06.880389",
     "status": "completed"
    },
    "tags": []
   },
   "outputs": [
    {
     "data": {
      "text/plain": [
       "Gender\n",
       "Male      5457\n",
       "Female    4543\n",
       "Name: count, dtype: int64"
      ]
     },
     "execution_count": 9,
     "metadata": {},
     "output_type": "execute_result"
    }
   ],
   "source": [
    "df['Gender'].value_counts()"
   ]
  },
  {
   "cell_type": "code",
   "execution_count": 10,
   "id": "f365b908",
   "metadata": {
    "execution": {
     "iopub.execute_input": "2024-06-29T17:47:06.943837Z",
     "iopub.status.busy": "2024-06-29T17:47:06.942703Z",
     "iopub.status.idle": "2024-06-29T17:47:06.957698Z",
     "shell.execute_reply": "2024-06-29T17:47:06.956628Z"
    },
    "papermill": {
     "duration": 0.034349,
     "end_time": "2024-06-29T17:47:06.960353",
     "exception": false,
     "start_time": "2024-06-29T17:47:06.926004",
     "status": "completed"
    },
    "tags": []
   },
   "outputs": [],
   "source": [
    "df['Gender']= df['Gender'].astype('str').apply(lambda x: 1 if x=='Female' else 0)"
   ]
  },
  {
   "cell_type": "code",
   "execution_count": 11,
   "id": "7da73441",
   "metadata": {
    "execution": {
     "iopub.execute_input": "2024-06-29T17:47:06.992977Z",
     "iopub.status.busy": "2024-06-29T17:47:06.992594Z",
     "iopub.status.idle": "2024-06-29T17:47:07.003947Z",
     "shell.execute_reply": "2024-06-29T17:47:07.002625Z"
    },
    "papermill": {
     "duration": 0.030578,
     "end_time": "2024-06-29T17:47:07.006468",
     "exception": false,
     "start_time": "2024-06-29T17:47:06.975890",
     "status": "completed"
    },
    "tags": []
   },
   "outputs": [
    {
     "data": {
      "text/plain": [
       "Gender\n",
       "0    5457\n",
       "1    4543\n",
       "Name: count, dtype: int64"
      ]
     },
     "execution_count": 11,
     "metadata": {},
     "output_type": "execute_result"
    }
   ],
   "source": [
    "df['Gender'].value_counts()"
   ]
  },
  {
   "cell_type": "code",
   "execution_count": 12,
   "id": "5ab638b2",
   "metadata": {
    "execution": {
     "iopub.execute_input": "2024-06-29T17:47:07.145509Z",
     "iopub.status.busy": "2024-06-29T17:47:07.145130Z",
     "iopub.status.idle": "2024-06-29T17:47:07.163932Z",
     "shell.execute_reply": "2024-06-29T17:47:07.162409Z"
    },
    "papermill": {
     "duration": 0.041385,
     "end_time": "2024-06-29T17:47:07.166477",
     "exception": false,
     "start_time": "2024-06-29T17:47:07.125092",
     "status": "completed"
    },
    "tags": []
   },
   "outputs": [
    {
     "name": "stdout",
     "output_type": "stream",
     "text": [
      "<class 'pandas.core.frame.DataFrame'>\n",
      "RangeIndex: 10000 entries, 0 to 9999\n",
      "Data columns (total 15 columns):\n",
      " #   Column           Non-Null Count  Dtype  \n",
      "---  ------           --------------  -----  \n",
      " 0   CustomerId       10000 non-null  int64  \n",
      " 1   Surname          10000 non-null  object \n",
      " 2   CreditScore      10000 non-null  int64  \n",
      " 3   Gender           10000 non-null  int64  \n",
      " 4   Age              10000 non-null  int64  \n",
      " 5   Tenure           10000 non-null  int64  \n",
      " 6   Balance          10000 non-null  float64\n",
      " 7   NumOfProducts    10000 non-null  int64  \n",
      " 8   HasCrCard        10000 non-null  int64  \n",
      " 9   IsActiveMember   10000 non-null  int64  \n",
      " 10  EstimatedSalary  10000 non-null  float64\n",
      " 11  Exited           10000 non-null  int64  \n",
      " 12  Geo_France       10000 non-null  int64  \n",
      " 13  Geo_Germany      10000 non-null  int64  \n",
      " 14  Geo_Spain        10000 non-null  int64  \n",
      "dtypes: float64(2), int64(12), object(1)\n",
      "memory usage: 1.1+ MB\n"
     ]
    }
   ],
   "source": [
    "df.info()"
   ]
  },
  {
   "cell_type": "code",
   "execution_count": 13,
   "id": "30eee84d",
   "metadata": {
    "execution": {
     "iopub.execute_input": "2024-06-29T17:47:07.201723Z",
     "iopub.status.busy": "2024-06-29T17:47:07.201309Z",
     "iopub.status.idle": "2024-06-29T17:47:07.215644Z",
     "shell.execute_reply": "2024-06-29T17:47:07.214388Z"
    },
    "papermill": {
     "duration": 0.035221,
     "end_time": "2024-06-29T17:47:07.218233",
     "exception": false,
     "start_time": "2024-06-29T17:47:07.183012",
     "status": "completed"
    },
    "tags": []
   },
   "outputs": [
    {
     "data": {
      "text/plain": [
       "0"
      ]
     },
     "execution_count": 13,
     "metadata": {},
     "output_type": "execute_result"
    }
   ],
   "source": [
    "df.duplicated().sum()"
   ]
  },
  {
   "cell_type": "code",
   "execution_count": 14,
   "id": "2665f1c1",
   "metadata": {
    "execution": {
     "iopub.execute_input": "2024-06-29T17:47:07.512550Z",
     "iopub.status.busy": "2024-06-29T17:47:07.511994Z",
     "iopub.status.idle": "2024-06-29T17:47:07.519680Z",
     "shell.execute_reply": "2024-06-29T17:47:07.518598Z"
    },
    "papermill": {
     "duration": 0.029705,
     "end_time": "2024-06-29T17:47:07.522837",
     "exception": false,
     "start_time": "2024-06-29T17:47:07.493132",
     "status": "completed"
    },
    "tags": []
   },
   "outputs": [],
   "source": [
    "X= df[['CreditScore', 'Gender', 'Age', 'Tenure',\n",
    "       'Balance', 'NumOfProducts', 'HasCrCard', 'IsActiveMember',\n",
    "       'EstimatedSalary', 'Geo_France', 'Geo_Germany', 'Geo_Spain']]\n",
    "y= df['Exited']"
   ]
  },
  {
   "cell_type": "code",
   "execution_count": 15,
   "id": "9458e948",
   "metadata": {
    "execution": {
     "iopub.execute_input": "2024-06-29T17:47:07.559366Z",
     "iopub.status.busy": "2024-06-29T17:47:07.558977Z",
     "iopub.status.idle": "2024-06-29T17:47:07.841927Z",
     "shell.execute_reply": "2024-06-29T17:47:07.840781Z"
    },
    "papermill": {
     "duration": 0.304312,
     "end_time": "2024-06-29T17:47:07.844692",
     "exception": false,
     "start_time": "2024-06-29T17:47:07.540380",
     "status": "completed"
    },
    "tags": []
   },
   "outputs": [],
   "source": [
    "from sklearn.preprocessing import StandardScaler\n",
    "from sklearn.model_selection import  train_test_split\n",
    "sc= StandardScaler()\n",
    "X_train, X_test, y_train, y_test= train_test_split(X,y,test_size=0.2)\n",
    "X_train_scld= sc.fit_transform(X_train)\n",
    "X_test_scld= sc.transform(X_test)"
   ]
  },
  {
   "cell_type": "markdown",
   "id": "215b0f65",
   "metadata": {
    "papermill": {
     "duration": 0.016787,
     "end_time": "2024-06-29T17:47:07.878714",
     "exception": false,
     "start_time": "2024-06-29T17:47:07.861927",
     "status": "completed"
    },
    "tags": []
   },
   "source": [
    "## LOGISTIC REGRESSION"
   ]
  },
  {
   "cell_type": "code",
   "execution_count": 16,
   "id": "f9c5549f",
   "metadata": {
    "execution": {
     "iopub.execute_input": "2024-06-29T17:47:07.915188Z",
     "iopub.status.busy": "2024-06-29T17:47:07.914770Z",
     "iopub.status.idle": "2024-06-29T17:47:08.046189Z",
     "shell.execute_reply": "2024-06-29T17:47:08.044954Z"
    },
    "papermill": {
     "duration": 0.15398,
     "end_time": "2024-06-29T17:47:08.049964",
     "exception": false,
     "start_time": "2024-06-29T17:47:07.895984",
     "status": "completed"
    },
    "tags": []
   },
   "outputs": [
    {
     "data": {
      "text/plain": [
       "array([0, 0, 0, ..., 0, 1, 0])"
      ]
     },
     "execution_count": 16,
     "metadata": {},
     "output_type": "execute_result"
    }
   ],
   "source": [
    "from sklearn.linear_model import LogisticRegression\n",
    "lr= LogisticRegression()\n",
    "lr.fit(X_train_scld, y_train)\n",
    "y_pred_lr= lr.predict(X_test_scld)\n",
    "y_pred_lr"
   ]
  },
  {
   "cell_type": "code",
   "execution_count": 17,
   "id": "cbddf069",
   "metadata": {
    "execution": {
     "iopub.execute_input": "2024-06-29T17:47:08.128044Z",
     "iopub.status.busy": "2024-06-29T17:47:08.127327Z",
     "iopub.status.idle": "2024-06-29T17:47:08.139217Z",
     "shell.execute_reply": "2024-06-29T17:47:08.137994Z"
    },
    "papermill": {
     "duration": 0.060209,
     "end_time": "2024-06-29T17:47:08.146982",
     "exception": false,
     "start_time": "2024-06-29T17:47:08.086773",
     "status": "completed"
    },
    "tags": []
   },
   "outputs": [
    {
     "data": {
      "text/plain": [
       "0.8105"
      ]
     },
     "execution_count": 17,
     "metadata": {},
     "output_type": "execute_result"
    }
   ],
   "source": [
    "from sklearn.metrics import accuracy_score\n",
    "acc_lr= accuracy_score(y_test, y_pred_lr)\n",
    "acc_lr"
   ]
  },
  {
   "cell_type": "markdown",
   "id": "55ec1c52",
   "metadata": {
    "papermill": {
     "duration": 0.017637,
     "end_time": "2024-06-29T17:47:08.189106",
     "exception": false,
     "start_time": "2024-06-29T17:47:08.171469",
     "status": "completed"
    },
    "tags": []
   },
   "source": [
    "ACCURACY= 80%"
   ]
  },
  {
   "cell_type": "code",
   "execution_count": 18,
   "id": "22a47bc3",
   "metadata": {
    "execution": {
     "iopub.execute_input": "2024-06-29T17:47:08.288326Z",
     "iopub.status.busy": "2024-06-29T17:47:08.287946Z",
     "iopub.status.idle": "2024-06-29T17:47:08.300903Z",
     "shell.execute_reply": "2024-06-29T17:47:08.299794Z"
    },
    "papermill": {
     "duration": 0.034854,
     "end_time": "2024-06-29T17:47:08.303437",
     "exception": false,
     "start_time": "2024-06-29T17:47:08.268583",
     "status": "completed"
    },
    "tags": []
   },
   "outputs": [
    {
     "data": {
      "text/html": [
       "<div>\n",
       "<style scoped>\n",
       "    .dataframe tbody tr th:only-of-type {\n",
       "        vertical-align: middle;\n",
       "    }\n",
       "\n",
       "    .dataframe tbody tr th {\n",
       "        vertical-align: top;\n",
       "    }\n",
       "\n",
       "    .dataframe thead th {\n",
       "        text-align: right;\n",
       "    }\n",
       "</style>\n",
       "<table border=\"1\" class=\"dataframe\">\n",
       "  <thead>\n",
       "    <tr style=\"text-align: right;\">\n",
       "      <th></th>\n",
       "      <th>0</th>\n",
       "      <th>1</th>\n",
       "    </tr>\n",
       "  </thead>\n",
       "  <tbody>\n",
       "    <tr>\n",
       "      <th>0</th>\n",
       "      <td>1537</td>\n",
       "      <td>68</td>\n",
       "    </tr>\n",
       "    <tr>\n",
       "      <th>1</th>\n",
       "      <td>311</td>\n",
       "      <td>84</td>\n",
       "    </tr>\n",
       "  </tbody>\n",
       "</table>\n",
       "</div>"
      ],
      "text/plain": [
       "      0   1\n",
       "0  1537  68\n",
       "1   311  84"
      ]
     },
     "execution_count": 18,
     "metadata": {},
     "output_type": "execute_result"
    }
   ],
   "source": [
    "from sklearn.metrics import confusion_matrix\n",
    "cm= pd.DataFrame(confusion_matrix(y_test, y_pred_lr))\n",
    "cm"
   ]
  },
  {
   "cell_type": "markdown",
   "id": "1f95e6e5",
   "metadata": {
    "papermill": {
     "duration": 0.019948,
     "end_time": "2024-06-29T17:47:18.521080",
     "exception": false,
     "start_time": "2024-06-29T17:47:18.501132",
     "status": "completed"
    },
    "tags": []
   },
   "source": [
    "## RANDOM FOREST CLASSIFIER"
   ]
  },
  {
   "cell_type": "code",
   "execution_count": 19,
   "id": "32b74999",
   "metadata": {
    "execution": {
     "iopub.execute_input": "2024-06-29T17:47:18.562236Z",
     "iopub.status.busy": "2024-06-29T17:47:18.561836Z",
     "iopub.status.idle": "2024-06-29T17:47:19.979887Z",
     "shell.execute_reply": "2024-06-29T17:47:19.978632Z"
    },
    "papermill": {
     "duration": 1.441804,
     "end_time": "2024-06-29T17:47:19.982686",
     "exception": false,
     "start_time": "2024-06-29T17:47:18.540882",
     "status": "completed"
    },
    "tags": []
   },
   "outputs": [
    {
     "data": {
      "text/plain": [
       "array([0, 1, 0, ..., 0, 0, 0])"
      ]
     },
     "execution_count": 19,
     "metadata": {},
     "output_type": "execute_result"
    }
   ],
   "source": [
    "#RANDOM FOREST\n",
    "from sklearn.ensemble import RandomForestClassifier\n",
    "rfc= RandomForestClassifier(n_estimators=100, criterion='gini')\n",
    "rfc.fit(X_train_scld, y_train)\n",
    "y_pred_rfc= rfc.predict(X_test_scld)\n",
    "y_pred_rfc"
   ]
  },
  {
   "cell_type": "code",
   "execution_count": 20,
   "id": "310b21de",
   "metadata": {
    "execution": {
     "iopub.execute_input": "2024-06-29T17:47:20.023997Z",
     "iopub.status.busy": "2024-06-29T17:47:20.023615Z",
     "iopub.status.idle": "2024-06-29T17:47:20.033873Z",
     "shell.execute_reply": "2024-06-29T17:47:20.032572Z"
    },
    "papermill": {
     "duration": 0.03411,
     "end_time": "2024-06-29T17:47:20.036538",
     "exception": false,
     "start_time": "2024-06-29T17:47:20.002428",
     "status": "completed"
    },
    "tags": []
   },
   "outputs": [
    {
     "data": {
      "text/plain": [
       "0.871"
      ]
     },
     "execution_count": 20,
     "metadata": {},
     "output_type": "execute_result"
    }
   ],
   "source": [
    "from sklearn.metrics import accuracy_score\n",
    "acc_rfc= accuracy_score(y_test, y_pred_rfc)\n",
    "acc_rfc"
   ]
  },
  {
   "cell_type": "markdown",
   "id": "f8bc0adc",
   "metadata": {
    "papermill": {
     "duration": 0.019783,
     "end_time": "2024-06-29T17:47:20.076963",
     "exception": false,
     "start_time": "2024-06-29T17:47:20.057180",
     "status": "completed"
    },
    "tags": []
   },
   "source": [
    "ACCURACY: 86%"
   ]
  },
  {
   "cell_type": "code",
   "execution_count": 21,
   "id": "399a73e3",
   "metadata": {
    "execution": {
     "iopub.execute_input": "2024-06-29T17:47:20.125938Z",
     "iopub.status.busy": "2024-06-29T17:47:20.125497Z",
     "iopub.status.idle": "2024-06-29T17:47:20.138915Z",
     "shell.execute_reply": "2024-06-29T17:47:20.137734Z"
    },
    "papermill": {
     "duration": 0.044065,
     "end_time": "2024-06-29T17:47:20.141405",
     "exception": false,
     "start_time": "2024-06-29T17:47:20.097340",
     "status": "completed"
    },
    "tags": []
   },
   "outputs": [
    {
     "data": {
      "text/html": [
       "<div>\n",
       "<style scoped>\n",
       "    .dataframe tbody tr th:only-of-type {\n",
       "        vertical-align: middle;\n",
       "    }\n",
       "\n",
       "    .dataframe tbody tr th {\n",
       "        vertical-align: top;\n",
       "    }\n",
       "\n",
       "    .dataframe thead th {\n",
       "        text-align: right;\n",
       "    }\n",
       "</style>\n",
       "<table border=\"1\" class=\"dataframe\">\n",
       "  <thead>\n",
       "    <tr style=\"text-align: right;\">\n",
       "      <th></th>\n",
       "      <th>0</th>\n",
       "      <th>1</th>\n",
       "    </tr>\n",
       "  </thead>\n",
       "  <tbody>\n",
       "    <tr>\n",
       "      <th>0</th>\n",
       "      <td>1542</td>\n",
       "      <td>63</td>\n",
       "    </tr>\n",
       "    <tr>\n",
       "      <th>1</th>\n",
       "      <td>195</td>\n",
       "      <td>200</td>\n",
       "    </tr>\n",
       "  </tbody>\n",
       "</table>\n",
       "</div>"
      ],
      "text/plain": [
       "      0    1\n",
       "0  1542   63\n",
       "1   195  200"
      ]
     },
     "execution_count": 21,
     "metadata": {},
     "output_type": "execute_result"
    }
   ],
   "source": [
    "from sklearn.metrics import confusion_matrix\n",
    "cm_rfc= confusion_matrix(y_test, y_pred_rfc)\n",
    "cm_rfc= pd.DataFrame(cm_rfc)\n",
    "cm_rfc"
   ]
  },
  {
   "cell_type": "markdown",
   "id": "644f55ad",
   "metadata": {
    "papermill": {
     "duration": 0.020249,
     "end_time": "2024-06-29T17:47:20.181729",
     "exception": false,
     "start_time": "2024-06-29T17:47:20.161480",
     "status": "completed"
    },
    "tags": []
   },
   "source": [
    "**MODEL RANKING BASED ON ACCURACY SCORE**\n",
    "1. Random Forest Classifier- 86%\n",
    "2. Logistic Regression- 80%\n"
   ]
  },
  {
   "cell_type": "code",
   "execution_count": null,
   "id": "5fc4fd42",
   "metadata": {
    "papermill": {
     "duration": 0.021359,
     "end_time": "2024-06-29T17:47:21.451818",
     "exception": false,
     "start_time": "2024-06-29T17:47:21.430459",
     "status": "completed"
    },
    "tags": []
   },
   "outputs": [],
   "source": []
  }
 ],
 "metadata": {
  "kaggle": {
   "accelerator": "none",
   "dataSources": [
    {
     "datasetId": 2008274,
     "sourceId": 3322096,
     "sourceType": "datasetVersion"
    }
   ],
   "dockerImageVersionId": 30732,
   "isGpuEnabled": false,
   "isInternetEnabled": true,
   "language": "python",
   "sourceType": "notebook"
  },
  "kernelspec": {
   "display_name": "Python 3",
   "language": "python",
   "name": "python3"
  },
  "language_info": {
   "codemirror_mode": {
    "name": "ipython",
    "version": 3
   },
   "file_extension": ".py",
   "mimetype": "text/x-python",
   "name": "python",
   "nbconvert_exporter": "python",
   "pygments_lexer": "ipython3",
   "version": "3.12.2"
  },
  "papermill": {
   "default_parameters": {},
   "duration": 21.180219,
   "end_time": "2024-06-29T17:47:22.195521",
   "environment_variables": {},
   "exception": null,
   "input_path": "__notebook__.ipynb",
   "output_path": "__notebook__.ipynb",
   "parameters": {},
   "start_time": "2024-06-29T17:47:01.015302",
   "version": "2.5.0"
  }
 },
 "nbformat": 4,
 "nbformat_minor": 5
}
